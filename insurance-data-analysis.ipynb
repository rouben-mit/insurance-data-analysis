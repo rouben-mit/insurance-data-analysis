{
 "cells": [
  {
   "cell_type": "markdown",
   "id": "6f249380-87fe-4622-9140-4170ef33cda7",
   "metadata": {},
   "source": [
    "This is a Template Notebook for JP sample dataset.csv analysis"
   ]
  },
  {
   "cell_type": "markdown",
   "id": "791f5636-bb72-4f7a-ae58-78d2679db900",
   "metadata": {},
   "source": [
    " >>>TASK 1: Forecast hazardous locations:"
   ]
  },
  {
   "cell_type": "code",
   "execution_count": null,
   "id": "df4e6b8a-1467-472c-92f4-af789518c80a",
   "metadata": {},
   "outputs": [],
   "source": [
    "## Python code to start here"
   ]
  },
  {
   "cell_type": "markdown",
   "id": "9397fea4-a062-43e3-b281-93f525eedd69",
   "metadata": {},
   "source": [
    "Solution Notes"
   ]
  },
  {
   "cell_type": "markdown",
   "id": "b46c1794-347e-46d6-ab6a-329092702d47",
   "metadata": {},
   "source": []
  },
  {
   "cell_type": "markdown",
   "id": "a63052fa-a9fd-4f16-a4e4-2f42daabce88",
   "metadata": {},
   "source": [
    ">>> TASK 2: provide visual seasonal patterns, injury types. "
   ]
  },
  {
   "cell_type": "code",
   "execution_count": null,
   "id": "438d5f35-891a-453e-885c-016d2092ba7a",
   "metadata": {},
   "outputs": [],
   "source": [
    "## Python Solution starts here "
   ]
  },
  {
   "cell_type": "markdown",
   "id": "cfde498c-b62e-4723-aa37-71fa16468440",
   "metadata": {},
   "source": [
    "Solution Notes"
   ]
  },
  {
   "cell_type": "markdown",
   "id": "3e2e6a04-e339-450d-ad4b-b4a04ca54bf3",
   "metadata": {},
   "source": [
    ">>> Task 3:  Provide recommendations for work locations with minimal injuries.  "
   ]
  },
  {
   "cell_type": "code",
   "execution_count": null,
   "id": "ab683004-6a6b-4234-9202-9f7b4fe154d3",
   "metadata": {},
   "outputs": [],
   "source": [
    "## Python Solution goes here"
   ]
  }
 ],
 "metadata": {
  "kernelspec": {
   "display_name": "Python 3 (ipykernel)",
   "language": "python",
   "name": "python3"
  },
  "language_info": {
   "codemirror_mode": {
    "name": "ipython",
    "version": 3
   },
   "file_extension": ".py",
   "mimetype": "text/x-python",
   "name": "python",
   "nbconvert_exporter": "python",
   "pygments_lexer": "ipython3",
   "version": "3.11.7"
  }
 },
 "nbformat": 4,
 "nbformat_minor": 5
}
